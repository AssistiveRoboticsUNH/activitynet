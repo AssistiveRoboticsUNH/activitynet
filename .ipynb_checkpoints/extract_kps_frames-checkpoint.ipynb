{
 "cells": [
  {
   "cell_type": "code",
   "execution_count": null,
   "metadata": {},
   "outputs": [],
   "source": [
    "import cv2\n",
    "import numpy as np\n",
    "import matplotlib.pyplot as plt\n",
    "from mediapipe import solutions\n",
    "from mediapipe.framework.formats import landmark_pb2\n",
    "import numpy as np\n",
    "\n",
    "import mediapipe as mp\n",
    "from mediapipe.tasks import python\n",
    "from mediapipe.tasks.python import vision\n",
    "import glob\n",
    "from tqdm import tqdm\n",
    "from collections import OrderedDict, defaultdict\n",
    "from IPython.display import clear_output\n",
    "import time\n",
    "import os"
   ]
  },
  {
   "cell_type": "code",
   "execution_count": 4,
   "metadata": {},
   "outputs": [],
   "source": [
    "def extract_imgs(video_fn, skip_frames=1):\n",
    "    video=cv2.VideoCapture(video_fn)\n",
    "    imgs=[]\n",
    "    frame_count=0\n",
    "    while(video.isOpened()):\n",
    "        ret, frame = video.read()\n",
    "        if ret==False: break\n",
    "        if frame_count%skip_frames==0:\n",
    "            imgs.append(frame)\n",
    "        frame_count+=1\n",
    "    video.release() \n",
    "    return imgs\n"
   ]
  },
  {
   "cell_type": "code",
   "execution_count": 6,
   "metadata": {},
   "outputs": [
    {
     "ename": "NameError",
     "evalue": "name 'mp' is not defined",
     "output_type": "error",
     "traceback": [
      "\u001b[0;31m---------------------------------------------------------------------------\u001b[0m",
      "\u001b[0;31mNameError\u001b[0m                                 Traceback (most recent call last)",
      "Cell \u001b[0;32mIn[6], line 1\u001b[0m\n\u001b[0;32m----> 1\u001b[0m pose \u001b[39m=\u001b[39m mp\u001b[39m.\u001b[39msolutions\u001b[39m.\u001b[39mpose\u001b[39m.\u001b[39mPose(static_image_mode\u001b[39m=\u001b[39m\u001b[39mFalse\u001b[39;00m, min_detection_confidence\u001b[39m=\u001b[39m\u001b[39m0.5\u001b[39m, min_tracking_confidence\u001b[39m=\u001b[39m\u001b[39m0.5\u001b[39m)\n\u001b[1;32m      2\u001b[0m \u001b[39mdef\u001b[39;00m \u001b[39mextract_keypoints\u001b[39m(image_rgb): \n\u001b[1;32m      3\u001b[0m     \u001b[39mtry\u001b[39;00m:\n",
      "\u001b[0;31mNameError\u001b[0m: name 'mp' is not defined"
     ]
    }
   ],
   "source": [
    "pose = mp.solutions.pose.Pose(static_image_mode=False, min_detection_confidence=0.5, min_tracking_confidence=0.5)\n",
    "def extract_keypoints(image_rgb): \n",
    "    try:\n",
    "        results = pose.process(image_rgb)\n",
    "        landmarks=results.pose_landmarks.landmark\n",
    "    except Exception as e:\n",
    "        # print('Error file=', fn)\n",
    "        # print('Error=', e)\n",
    "        return None\n",
    "    xys=[]\n",
    "    for landmark in landmarks:\n",
    "        xys.append([landmark.x, landmark.y])\n",
    "    xys=np.array(xys)\n",
    "    return xys"
   ]
  },
  {
   "cell_type": "code",
   "execution_count": null,
   "metadata": {},
   "outputs": [],
   "source": []
  }
 ],
 "metadata": {
  "kernelspec": {
   "display_name": "Python 3",
   "language": "python",
   "name": "python3"
  },
  "language_info": {
   "codemirror_mode": {
    "name": "ipython",
    "version": 3
   },
   "file_extension": ".py",
   "mimetype": "text/x-python",
   "name": "python",
   "nbconvert_exporter": "python",
   "pygments_lexer": "ipython3",
   "version": "3.11.3"
  },
  "orig_nbformat": 4
 },
 "nbformat": 4,
 "nbformat_minor": 2
}
