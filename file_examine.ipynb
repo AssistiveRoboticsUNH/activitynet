{
 "cells": [
  {
   "cell_type": "code",
   "execution_count": 61,
   "metadata": {},
   "outputs": [],
   "source": [
    "import argparse\n",
    "import os\n",
    "import numpy as np\n",
    "import matplotlib.pyplot as plt\n",
    "import time\n",
    "from IPython.display import clear_output\n",
    "import cv2\n",
    "import mediapipe as mp"
   ]
  },
  {
   "cell_type": "code",
   "execution_count": 53,
   "metadata": {},
   "outputs": [],
   "source": [
    "def readfile(filename):\n",
    "    file = open(filename, \"rb\")\n",
    "    lines = np.loadtxt(file, dtype=str)\n",
    "    print(len(lines))\n",
    "    ret = []\n",
    "    for line in lines:\n",
    "        frame = []\n",
    "        vals = line.split(',')\n",
    "        for val in vals:\n",
    "            convert = float(val)\n",
    "            frame.append(convert)\n",
    "        ret.append(frame)\n",
    "    return np.array(ret)"
   ]
  },
  {
   "cell_type": "code",
   "execution_count": 4,
   "metadata": {},
   "outputs": [],
   "source": [
    "def main(args):\n",
    "    file = os.getcwd() + '/' + args['file']\n",
    "    if file != None: readfile(file)\n",
    "    else:\n",
    "        print(\"\\n*** NO INPUT GIVEN --> TERMINATING PROGRAM ***\\n\") \n",
    "        return None"
   ]
  },
  {
   "cell_type": "code",
   "execution_count": 16,
   "metadata": {},
   "outputs": [],
   "source": [
    "def view_imgs_as_video(imgs, delay=0.05):\n",
    "    for img in imgs:\n",
    "        clear_output(wait=True)\n",
    "        plt.imshow(img[:,:,::-1])\n",
    "        plt.show()\n",
    "        time.sleep(delay)"
   ]
  },
  {
   "cell_type": "code",
   "execution_count": 66,
   "metadata": {},
   "outputs": [],
   "source": [
    "def draw_points(image, landmarks, keys=None):\n",
    "    mp_drawing = mp.solutions.drawing_utils\n",
    "    drawing_spec = mp_drawing.DrawingSpec(color=(245, 117, 66), thickness=2, circle_radius=2)\n",
    " \n",
    "    if keys==None: keys=[ i for i in range(len(landmarks)) ]\n",
    "     \n",
    "    for key in keys:\n",
    "        landmark_point = landmarks[key]\n",
    "        x_px, y_px = int(landmark_point.x * image.shape[1]), int(landmark_point.y * image.shape[0])\n",
    "        cv2.circle(image, (x_px, y_px), drawing_spec.circle_radius, drawing_spec.color, drawing_spec.thickness)\n",
    "    return image "
   ]
  },
  {
   "cell_type": "code",
   "execution_count": 73,
   "metadata": {},
   "outputs": [],
   "source": [
    "pose = mp.solutions.pose.Pose(static_image_mode=False, min_detection_confidence=0.5, min_tracking_confidence=0.5)\n",
    "def show_video_helper(imgs):\n",
    "    imgs2=[]\n",
    "    for i, img in enumerate(imgs):\n",
    "        image_rgb=cv2.cvtColor(img, cv2.COLOR_BGR2RGB)\n",
    "        results = pose.process(image_rgb)\n",
    "        check = results.pose_landmarks\n",
    "        if check is None: continue\n",
    "        landmarks=results.pose_landmarks.landmark[:25]\n",
    "        img=draw_points(img, landmarks)\n",
    "        imgs2.append(img)\n",
    "    view_imgs_as_video(imgs2)"
   ]
  },
  {
   "cell_type": "code",
   "execution_count": 85,
   "metadata": {},
   "outputs": [],
   "source": [
    "def readLandmarkFile(filename):\n",
    "    file = open(filename, \"rb\")\n",
    "    lines = np.loadtxt(file, dtype=str)\n",
    "    print(len(lines))\n",
    "    ret = []\n",
    "    count = 1\n",
    "    for line in lines:\n",
    "        print(count, line)\n",
    "        ret.append(line)\n",
    "    \n",
    "        count+=1"
   ]
  },
  {
   "cell_type": "code",
   "execution_count": 88,
   "metadata": {},
   "outputs": [],
   "source": [
    "def draw_points_xy(image, xs, ys):\n",
    "    mp_drawing = mp.solutions.drawing_utils\n",
    "    drawing_spec = mp_drawing.DrawingSpec(color=(245, 117, 66), thickness=2, circle_radius=2)\n",
    "   \n",
    "    for x,y in zip(xs, ys):\n",
    "        x_px, y_px = int(x * image.shape[1]), int(y * image.shape[0])\n",
    "        cv2.circle(image, (x_px, y_px), drawing_spec.circle_radius, drawing_spec.color, drawing_spec.thickness)\n",
    "    return image "
   ]
  },
  {
   "cell_type": "code",
   "execution_count": 31,
   "metadata": {},
   "outputs": [
    {
     "data": {
      "text/plain": [
       "(35,)"
      ]
     },
     "execution_count": 31,
     "metadata": {},
     "output_type": "execute_result"
    }
   ],
   "source": [
    "arr = np.loadtxt(\"ola2_9_points.txt\", dtype=str)\n",
    "arr.shape"
   ]
  },
  {
   "cell_type": "code",
   "execution_count": null,
   "metadata": {},
   "outputs": [],
   "source": [
    "arr = readfile(\"ola2_9_points.txt\")\n",
    "#arr = np.loadtxt(\"ola2_9_points.txt\", dtype=str)\n",
    "arr.shape\n",
    "# arr\n",
    "# show_video_helper(arr)"
   ]
  },
  {
   "cell_type": "code",
   "execution_count": null,
   "metadata": {},
   "outputs": [],
   "source": []
  },
  {
   "cell_type": "code",
   "execution_count": null,
   "metadata": {},
   "outputs": [],
   "source": []
  },
  {
   "cell_type": "code",
   "execution_count": 103,
   "metadata": {},
   "outputs": [
    {
     "name": "stdout",
     "output_type": "stream",
     "text": [
      "50\n"
     ]
    },
    {
     "ename": "error",
     "evalue": "OpenCV(4.8.1) /io/opencv/modules/imgproc/src/color.simd_helpers.hpp:94: error: (-2:Unspecified error) in function 'cv::impl::{anonymous}::CvtHelper<VScn, VDcn, VDepth, sizePolicy>::CvtHelper(cv::InputArray, cv::OutputArray, int) [with VScn = cv::impl::{anonymous}::Set<1>; VDcn = cv::impl::{anonymous}::Set<3, 4>; VDepth = cv::impl::{anonymous}::Set<0, 2, 5>; cv::impl::{anonymous}::SizePolicy sizePolicy = cv::impl::<unnamed>::NONE; cv::InputArray = const cv::_InputArray&; cv::OutputArray = const cv::_OutputArray&]'\n> Unsupported depth of input image:\n>     'VDepth::contains(depth)'\n> where\n>     'depth' is 6 (CV_64F)\n",
     "output_type": "error",
     "traceback": [
      "\u001b[0;31m---------------------------------------------------------------------------\u001b[0m",
      "\u001b[0;31merror\u001b[0m                                     Traceback (most recent call last)",
      "\u001b[1;32m/home/cgladu/activitynet-main/file_examine.ipynb Cell 11\u001b[0m line \u001b[0;36m5\n\u001b[1;32m      <a href='vscode-notebook-cell:/home/cgladu/activitynet-main/file_examine.ipynb#X20sZmlsZQ%3D%3D?line=2'>3</a>\u001b[0m \u001b[39mfor\u001b[39;00m i, img \u001b[39min\u001b[39;00m \u001b[39menumerate\u001b[39m(arr): \n\u001b[1;32m      <a href='vscode-notebook-cell:/home/cgladu/activitynet-main/file_examine.ipynb#X20sZmlsZQ%3D%3D?line=3'>4</a>\u001b[0m     \u001b[39mprint\u001b[39m(\u001b[39mlen\u001b[39m(img))\n\u001b[0;32m----> <a href='vscode-notebook-cell:/home/cgladu/activitynet-main/file_examine.ipynb#X20sZmlsZQ%3D%3D?line=4'>5</a>\u001b[0m     image_rgb\u001b[39m=\u001b[39mcv2\u001b[39m.\u001b[39;49mcvtColor(img, cv2\u001b[39m.\u001b[39;49mCOLOR_BGR2RGB)\n\u001b[1;32m      <a href='vscode-notebook-cell:/home/cgladu/activitynet-main/file_examine.ipynb#X20sZmlsZQ%3D%3D?line=5'>6</a>\u001b[0m     results \u001b[39m=\u001b[39m pose\u001b[39m.\u001b[39mprocess(image_rgb)\n\u001b[1;32m      <a href='vscode-notebook-cell:/home/cgladu/activitynet-main/file_examine.ipynb#X20sZmlsZQ%3D%3D?line=6'>7</a>\u001b[0m     xys\u001b[39m=\u001b[39marr[i]\n",
      "\u001b[0;31merror\u001b[0m: OpenCV(4.8.1) /io/opencv/modules/imgproc/src/color.simd_helpers.hpp:94: error: (-2:Unspecified error) in function 'cv::impl::{anonymous}::CvtHelper<VScn, VDcn, VDepth, sizePolicy>::CvtHelper(cv::InputArray, cv::OutputArray, int) [with VScn = cv::impl::{anonymous}::Set<1>; VDcn = cv::impl::{anonymous}::Set<3, 4>; VDepth = cv::impl::{anonymous}::Set<0, 2, 5>; cv::impl::{anonymous}::SizePolicy sizePolicy = cv::impl::<unnamed>::NONE; cv::InputArray = const cv::_InputArray&; cv::OutputArray = const cv::_OutputArray&]'\n> Unsupported depth of input image:\n>     'VDepth::contains(depth)'\n> where\n>     'depth' is 6 (CV_64F)\n"
     ]
    }
   ],
   "source": [
    "kps = np.array(arr)\n",
    "imgs=[]\n",
    "for i, img in enumerate(arr): \n",
    "    image_rgb=cv2.cvtColor(img, cv2.COLOR_BGR2RGB)\n",
    "    results = pose.process(image_rgb)\n",
    "    xys=arr[i]\n",
    "    xs=xys[:25]\n",
    "    ys=xys[25:]\n",
    "    img=draw_points_xy(image_rgb, xs, ys)\n",
    "    imgs.append(img)"
   ]
  },
  {
   "cell_type": "code",
   "execution_count": 108,
   "metadata": {},
   "outputs": [
    {
     "ename": "IndexError",
     "evalue": "tuple index out of range",
     "output_type": "error",
     "traceback": [
      "\u001b[0;31m---------------------------------------------------------------------------\u001b[0m",
      "\u001b[0;31mIndexError\u001b[0m                                Traceback (most recent call last)",
      "\u001b[1;32m/home/cgladu/activitynet-main/file_examine.ipynb Cell 12\u001b[0m line \u001b[0;36m2\n\u001b[1;32m      <a href='vscode-notebook-cell:/home/cgladu/activitynet-main/file_examine.ipynb#X23sZmlsZQ%3D%3D?line=0'>1</a>\u001b[0m lines \u001b[39m=\u001b[39m np\u001b[39m.\u001b[39mloadtxt(\u001b[39m\"\u001b[39m\u001b[39mola2_9_images.txt\u001b[39m\u001b[39m\"\u001b[39m, dtype\u001b[39m=\u001b[39m\u001b[39m'\u001b[39m\u001b[39mstr\u001b[39m\u001b[39m'\u001b[39m)\n\u001b[0;32m----> <a href='vscode-notebook-cell:/home/cgladu/activitynet-main/file_examine.ipynb#X23sZmlsZQ%3D%3D?line=1'>2</a>\u001b[0m load_original_arr \u001b[39m=\u001b[39m lines\u001b[39m.\u001b[39mreshape(lines\u001b[39m.\u001b[39mshape[\u001b[39m0\u001b[39m], lines\u001b[39m.\u001b[39;49mshape[\u001b[39m1\u001b[39;49m] \u001b[39m/\u001b[39m\u001b[39m/\u001b[39m arr\u001b[39m.\u001b[39mshape[\u001b[39m2\u001b[39m], arr\u001b[39m.\u001b[39mshape[\u001b[39m2\u001b[39m])\n\u001b[1;32m      <a href='vscode-notebook-cell:/home/cgladu/activitynet-main/file_examine.ipynb#X23sZmlsZQ%3D%3D?line=2'>3</a>\u001b[0m \u001b[39mfor\u001b[39;00m line \u001b[39min\u001b[39;00m lines:\n\u001b[1;32m      <a href='vscode-notebook-cell:/home/cgladu/activitynet-main/file_examine.ipynb#X23sZmlsZQ%3D%3D?line=3'>4</a>\u001b[0m     \u001b[39mprint\u001b[39m(\u001b[39mlen\u001b[39m(line))\n",
      "\u001b[0;31mIndexError\u001b[0m: tuple index out of range"
     ]
    }
   ],
   "source": [
    "lines = np.loadtxt(\"ola2_9_images.txt\", dtype='str')\n",
    "load_original_arr = lines.reshape(lines.shape[0], lines.shape[1] // arr.shape[2], arr.shape[2])\n",
    "for line in lines:\n",
    "    print(len(line))\n"
   ]
  },
  {
   "cell_type": "code",
   "execution_count": null,
   "metadata": {},
   "outputs": [],
   "source": []
  }
 ],
 "metadata": {
  "kernelspec": {
   "display_name": "Python 3",
   "language": "python",
   "name": "python3"
  },
  "language_info": {
   "codemirror_mode": {
    "name": "ipython",
    "version": 3
   },
   "file_extension": ".py",
   "mimetype": "text/x-python",
   "name": "python",
   "nbconvert_exporter": "python",
   "pygments_lexer": "ipython3",
   "version": "3.11.5"
  }
 },
 "nbformat": 4,
 "nbformat_minor": 2
}
